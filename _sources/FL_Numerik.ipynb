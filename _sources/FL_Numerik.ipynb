{
 "cells": [
  {
   "cell_type": "markdown",
   "metadata": {
    "pycharm": {
     "name": "#%% md\n"
    }
   },
   "source": [
    "(FL-Numerik)=\n",
    "# Flüssigwassertransport - Numerische Anwendung\n",
    "In diesem Kapitel sollen die dem Flüssigwassertransport zu Grunde liegenden Differentialgleichungen in einem einfachen numerischen Modell angewendet werden. Die verwendeten Gleichungen stützen sich auf die Ausführungen in {ref}`FL_Theorie` und {cite}`AngelaSasicKalagasidis.2004`.\n",
    "\n",
    "Die zur numerischen Lösung der beschreibenden Differentialgleichung verwendeten Bibliotheken und Funktionen können hier eingeblendet werden."
   ]
  },
  {
   "cell_type": "code",
   "execution_count": 1,
   "metadata": {
    "collapsed": false,
    "jupyter": {
     "outputs_hidden": false
    },
    "pycharm": {
     "name": "#%%\n"
    },
    "tags": [
     "hide-input"
    ]
   },
   "outputs": [],
   "source": [
    "# Matrixoperationen:\n",
    "import numpy as np\n",
    "# Numerisches Integrationsverfahren zur Lösung eines Anfangswertproblemes:\n",
    "from scipy.integrate import solve_ivp\n",
    "# Darstellung der Ergebnisse:\n",
    "import matplotlib.pyplot as plt\n",
    "plt.rcParams['text.usetex'] = False"
   ]
  },
  {
   "cell_type": "markdown",
   "metadata": {
    "pycharm": {
     "name": "#%% md\n"
    }
   },
   "source": [
    "## Anwendungsfall\n",
    "Es soll die Veränderung des Wassergehaltes über die Dauer eines fiktiven eindimesionalen Aufsaugversuches in einem Probekörper nachgerechnet werden. Dieses Modell kann auch verwendet werden um den Aufsaugversuch der Laborübung ({ref}`LU_FL`) vereinfacht nachzubilden. Eine schematische Darstellung des Probekörpers ist in {numref}`FL_sample` gegeben.\n",
    "\n",
    "```{figure} img/FL_sample_scheme.png\n",
    "---\n",
    "height: 250px\n",
    "name: FL_sample\n",
    "---\n",
    "Darstellung des Probekörpers des fiktiven Aufsaugveruches mit den beschreibenden Parametern.\n",
    "```"
   ]
  },
  {
   "cell_type": "markdown",
   "metadata": {
    "pycharm": {
     "name": "#%% md\n"
    }
   },
   "source": [
    "## Physikalisches Modell\n",
    "Die Veränderung des Wassergehaltes nach der Zeit bei Berücksichtigung von Wasserdampfdiffusion und Flüssigwasserleitung kann durch Gleichung {eq}`eq_dw_dt` beschrieben werden\n",
    "\n",
    "$$\n",
    "  \\frac{\\partial w}{\\partial t} = - \\frac{\\partial g_{v}}{\\partial x} - \\frac{\\partial g_{l}}{\\partial x}.\n",
    "$$ (eq_dw_dt)\n",
    "\n",
    "Dabei ist $g_{v}$ die Feuchtestromdichte zu Folge Wasserdampftransport, Gleichung {eq}`eq_g_v`, und $g_{l}$ die Feuchtestromdichte zu Folge Flüssigwassertransport, Gleichung {eq}`eq_g_l`, in kg/s.\n",
    "\n",
    "$$\n",
    " g_{v} = - \\delta_{p} \\cdot \\frac{\\partial p}{\\partial x}\n",
    "$$ (eq_g_v)\n",
    "\n",
    "$$\n",
    " g_{l} = - K \\cdot \\frac{\\partial P_{suc}}{\\partial x}\n",
    "$$ (eq_g_l)\n",
    "\n",
    "In diesem vereinfachten Beispiel wird der Transport zu Folge Dampfdiffusion vernachlässigt, womit sich Gleichung {eq}`eq_dw_dt` zu Gleichung {eq}`eq_dw_dt_simp` vereinfacht.\n",
    "\n",
    "\n",
    "$$\n",
    "  \\frac{\\partial w}{\\partial t} = - \\frac{\\partial g_{l}}{\\partial x}\n",
    "$$ (eq_dw_dt_simp)\n",
    "\n",
    "In {cite}`AngelaSasicKalagasidis.2004` wird der Wassergehalt in Abhängigkeit der Saugspannung definiert lt. Gleichung {eq}`w_Psuc`.\n",
    "\n",
    "$$\n",
    "w(P_{suc}) = 300 \\cdot (1 + 10^{-6} \\cdot P_{suc})^{-1}\n",
    "$$ (w_Psuc)\n",
    "\n",
    "Die Flüssigwasserleitung, als Funktion der Saugspannung und eines freien Parameters n {cite}`Bednar.2000`, kann durch GLeichung {eq}`K_w` beschrieben werden.\n",
    "\n",
    "$$\n",
    "K_{w}(P_{suc}, n) = - \\frac{\\partial w(P_{suc})}{\\partial P_{suc}} \\cdot \\frac{n + 1}{2 n} \\cdot \\left(\\frac{A}{300}\\right)^{2} \\cdot \\left(\\frac{w(P_{suc}}{300}\\right)^{n} \\cdot \\left( n + 1 - \\left(\\frac{w(P_{suc}}{300}\\right)^{n}\\right)\n",
    "$$ (K_w)\n",
    "\n",
    "**Nomenklatur:**\n",
    "\n",
    "| Parameter    |   | Beschreibung                                |\n",
    "|--------------|---|---------------------------------------------|\n",
    "| $A$          |   | Wasseraufnahmekoeffizient in $kg/m²h^{0.5}$ |\n",
    "| $g$          |   | Feuchtestromdichte in $kg/m²s$              |\n",
    "| $K$          |   | Flüssigwasserleitung in $s$                 |\n",
    "| $K_{w}$      |   | Totale hydraulische Leitfähigkeit in $s$    |\n",
    "| $p$          |   | Wasserdampfpartialdruck in $Pa$             |\n",
    "| $p_{suc}$    |   | Saugspannung in $Pa$                        |\n",
    "| $t$          |   | Zeit in $s$  oder $h$                       |\n",
    "| $w$          |   | Wassergehalt in $kg/m³$                     |\n",
    "| $x$          |   | Raumkoordinate in x-Richtung in $m$         |\n",
    "| $\\delta_{p}$ |   | Wasserdampfdiffusivität in $kg/m³s$         |\n",
    "\n"
   ]
  },
  {
   "cell_type": "code",
   "execution_count": 2,
   "metadata": {
    "collapsed": false,
    "jupyter": {
     "outputs_hidden": false
    },
    "pycharm": {
     "name": "#%%\n"
    }
   },
   "outputs": [],
   "source": [
    "def w_calc(P_suc):\n",
    "    return 300. * (1. + 10 ** (-6) * P_suc) ** (-1)\n",
    "\n",
    "\n",
    "def K_w_calc(P_suc, n, A):\n",
    "\n",
    "    K_w = - (-300. * 10 ** (-6)) / (1. + 10 ** (-6) * P_suc) ** 2 * (n + 1.) / (2. * n) * (A / 300.) ** 2 * (\n",
    "            w_calc(P_suc) / 300.) ** n * (n + 1 - (w_calc(P_suc) / 300.) ** n)\n",
    "\n",
    "    return K_w\n",
    "\n",
    "\n",
    "def P_suc_calc(w, free_saturation, pore_size):\n",
    "\n",
    "    try:\n",
    "        P_suc = (300. / w - 1.) / (10 ** (-6))\n",
    "    except:\n",
    "        P_suc = 10 ** 9\n",
    "    return P_suc"
   ]
  },
  {
   "cell_type": "markdown",
   "metadata": {
    "pycharm": {
     "name": "#%% md\n"
    }
   },
   "source": [
    " > Für Gleichung {eq}`K_w` wurde dw/dP direkt analytisch berechnet und in die Funktion eingesetzt."
   ]
  },
  {
   "cell_type": "markdown",
   "metadata": {
    "pycharm": {
     "name": "#%% md\n"
    }
   },
   "source": [
    "## Numerisches Modell\n",
    "Zur numerischen Lösung von Gleichung {eq}`eq_dw_dt_simp` muss zunächst das Intervall auf dem die Ergebnisse zu ermitteln sind in endlich viele Teilintervalle diskretisiert werden. In unserem Beispiel bedeutet das, dass unser eindimensionaler fiktiver Versuchskörper eine feste Länge erhält und diese anschließend in eine finite Anzahl aufgeteilt wird, um somit an jedem dieser Diskretisierungspunkte ein Ergebnis berechnen zu können, {numref}`FL_sample_disk`."
   ]
  },
  {
   "cell_type": "markdown",
   "metadata": {},
   "source": [
    "\n",
    "```{figure} img/FL_sample_disk.png\n",
    "---\n",
    "height: 250px\n",
    "name: FL_sample_disk\n",
    "---\n",
    "Probekörper mit Diskretisierungspunkten in einem gleichmäßigen Abstand dx. Die außen liegenden Diskretisierungspunkte geben die Randbedingungen vor.\n",
    "```"
   ]
  },
  {
   "cell_type": "markdown",
   "metadata": {
    "pycharm": {
     "name": "#%% md\n"
    }
   },
   "source": [
    "Da sich für solche Diskretisierungsgitter die Arbeit mittels Matrizen anbietet, werden wir mit [Numpy Arrays](https://numpy.org/doc/stable/reference/generated/numpy.array.html)  arbeiten.\n",
    "\n",
    "### Eingangsparameter\n",
    "Eingangsparameter und Anfangswerte für solch eine Simulation könnten folgendermaßen aussehen:"
   ]
  },
  {
   "cell_type": "code",
   "execution_count": 3,
   "metadata": {
    "collapsed": false,
    "jupyter": {
     "outputs_hidden": false
    },
    "pycharm": {
     "name": "#%%\n"
    }
   },
   "outputs": [],
   "source": [
    "#-------------------#\n",
    "#     INPUT         #\n",
    "#-------------------#\n",
    "\n",
    "# Sample size\n",
    "length = 0.2  # meters\n",
    "resolution = 200 + 2\n",
    "free_saturation = 300.\n",
    "n = 13\n",
    "pore_size = 10 ** (-6)\n",
    "A = 10.0  # kg/m**2h**0.5  Moisture uptake coefficient\n",
    "initial_saturation = 1 / 100 * free_saturation\n",
    "\n",
    "#----------------------------------------------------#\n",
    "\n",
    "# Discretization Scheme\n",
    "dx = length / (resolution - 2)\n",
    "x = np.linspace(dx / 2, length - dx / 2, num=resolution - 2)\n",
    "\n",
    "# Initialiing starting variables\n",
    "w = np.full((resolution), initial_saturation, dtype=np.float64)\n",
    "P_suc = np.zeros(resolution)\n",
    "K_w = np.zeros(resolution)\n",
    "dwdt = np.zeros(resolution)"
   ]
  },
  {
   "cell_type": "markdown",
   "metadata": {
    "pycharm": {
     "name": "#%% md\n"
    }
   },
   "source": [
    "> Resolution ist ein 1D-Array mit der Anzahl an Einträgen welche den Diskretisierungspunkten des Probekörpers entspricht plus 2 für die Randbedingungen."
   ]
  },
  {
   "cell_type": "markdown",
   "source": [
    "```{admonition} Hinweis\n",
    "Hier können Sie die Eingabeparameter anpassen um z.B. Ihren Aufsaugversuch aus der {ref}`LU_FL` nachzurechnen\n",
    "```"
   ],
   "metadata": {
    "collapsed": false,
    "pycharm": {
     "name": "#%% md\n"
    }
   }
  },
  {
   "cell_type": "markdown",
   "metadata": {
    "pycharm": {
     "name": "#%% md\n"
    }
   },
   "source": [
    "### Randbedingungen\n",
    "Die Randbedingungen werden für das Beispiel mit $w_{left} = 300\\ kg/m³$ und $w_{right} = 60\\ kg/m³$ vorgegeben. Wir initialisieren die Randbedingungen entsprechend und berechnen auch für die anderen Parameter, welche vom Wassergehalt abhängig sind, die Randbedingungen."
   ]
  },
  {
   "cell_type": "code",
   "execution_count": 4,
   "metadata": {
    "collapsed": false,
    "jupyter": {
     "outputs_hidden": false
    },
    "pycharm": {
     "name": "#%%\n"
    }
   },
   "outputs": [],
   "source": [
    "# BC\n",
    "w_left = 300\n",
    "w_right = 60\n",
    "w[0] = w_left\n",
    "w[-1] = w_right\n",
    "P_suc_left = P_suc_calc(w_left, free_saturation, pore_size)\n",
    "P_suc_right = P_suc_calc(w_right, free_saturation, pore_size)\n",
    "P_suc[0] = P_suc_left\n",
    "P_suc[-1] = P_suc_right\n",
    "K_w_left = K_w_calc(P_suc_left, n, A)\n",
    "K_w_right = 0\n",
    "K_w[0] = K_w_left\n",
    "K_w[-1] = K_w_right"
   ]
  },
  {
   "cell_type": "markdown",
   "metadata": {
    "pycharm": {
     "name": "#%% md\n"
    }
   },
   "source": [
    "### Numerische Lösung der Differentialgleichung\n",
    "#### Berechnung der Veränderung des Wassergehaltes nach der Zeit - Approximation mittels FDM\n",
    "Um eine numerische Lösung der partiellen Differentialgleichung {eq}`eq_dw_dt_simp` zu ermöglichen wird zur Approximation der Lösung die Finite-Differenzen-Methode (FDM) angewandt.\n",
    "\n",
    "Wenn wir Gleichung {eq}`eq_g_l` in Gleichung {eq}`eq_dw_dt_simp` einsetzen erhalten wir Gleichung {eq}`eq_dw_dt_simp_ges`.\n",
    "\n",
    "$$\n",
    " g_{l} = K \\cdot \\frac{\\partial P_{suc}}{\\partial x} \\\\\n",
    " \\frac{\\partial w}{\\partial t} = - \\frac{\\partial g_{l}}{\\partial x} \\\\\n",
    " \\frac{\\partial w}{\\partial t} = - \\frac{\\partial}{\\partial x}\\left(K \\cdot \\frac{\\partial P_{suc}}{\\partial x}\\right)\n",
    "$$ (eq_dw_dt_simp_ges)\n",
    "\n",
    "Da sowohl $K$ als auch $P_{suc}$ vom Ort abhängig sind führt Anwendung der Produktregel bei Gleichung {eq}`eq_dw_dt_simp_ges` auf Gleichung {eq}`eq_dw_dt_simp_ges_prod`.\n",
    "\n",
    "$$\n",
    "\\frac{\\partial w}{\\partial t} = - \\frac{\\partial K}{\\partial x} \\cdot \\frac{\\partial P_{suc}}{\\partial x} + K \\cdot \\frac{\\partial^{2} P_{suc}}{\\partial x^{2}}\n",
    "$$ (eq_dw_dt_simp_ges_prod)\n",
    "\n",
    "Die diskrete Form von Gleichung {eq}`eq_dw_dt_simp_ges_prod` kann nun zum Beispiel mittels FDM aufgestellt werden und ist in Gleichung {eq}`eq_dw_dt_approx` dargestellt.\n",
    "\n",
    "$$\n",
    "\\frac{\\partial w}{\\partial t} = - \\frac{\\partial K}{\\partial x} \\cdot \\frac{\\partial P_{suc}}{\\partial x} + K \\cdot \\frac{\\partial^{2} P_{suc}}{\\partial x^{2}}) \\approx - \\frac{K_{O} - K_{U}}{2 \\cdot dx} \\cdot \\frac{P_{O} - P_{U}}{2 \\cdot dx} + K_{C} \\cdot \\frac{P_{O} - 2 P_{C} + P_{U}}{dx^{2}}\n",
    "$$ (eq_dw_dt_approx)\n",
    "\n",
    "Dabei steht der Index $O$ für das obere bzw. der Index $U$ für das untere angrenzende Element ausgehend vom eben betrachteten Element, Index $C$ (center), dargestellt in {numref}`grid_index`"
   ]
  },
  {
   "cell_type": "markdown",
   "metadata": {},
   "source": [
    "```{figure} img/grid_index.png\n",
    "---\n",
    "height: 250px\n",
    "name: grid_index\n",
    "---\n",
    "Darstellung von 3 Elementen aus der Diskretisierung. Das zu berechnende Element ist mit dem Index $C$ versehen, die angrenzenden Elemente mit dem Index $U$ bzw. $O$.\n",
    "```"
   ]
  },
  {
   "cell_type": "markdown",
   "metadata": {},
   "source": [
    "Wir stellen Gleichung {eq}`eq_dw_dt_approx` zur weiteren Verwendung als Funktion dar:"
   ]
  },
  {
   "cell_type": "code",
   "execution_count": 5,
   "metadata": {
    "collapsed": false,
    "jupyter": {
     "outputs_hidden": false
    },
    "pycharm": {
     "name": "#%%\n"
    }
   },
   "outputs": [],
   "source": [
    "def dwdt_calc(t, w):\n",
    "    P_suc[:] = P_suc_calc(w, free_saturation, pore_size)\n",
    "    K_w[:] = K_w_calc(P_suc[:], n, A)\n",
    "\n",
    "    dwdt = np.full((resolution), 0, dtype=np.float64)\n",
    "\n",
    "    dwdt[1:-1] = -((K_w[2:] - K_w[:-2]) / (2 * dx) * (P_suc[2:] - P_suc[:-2]) / (2 * dx) +\n",
    "                   K_w[1:-1] * (P_suc[2:] - 2 * P_suc[1:-1] + P_suc[:-2]) / dx ** 2)\n",
    "\n",
    "    # Für die Zellen der Randbedingung gibt es keine Veränderung des Wassergehalte nach der Zeit\n",
    "    dwdt[0] = 0\n",
    "    dwdt[resolution - 1] = 0\n",
    "\n",
    "    return dwdt"
   ]
  },
  {
   "cell_type": "markdown",
   "metadata": {
    "pycharm": {
     "name": "#%% md\n"
    }
   },
   "source": [
    "#### Berechnung des Wassergehaltes nach der Zeit - Numerische Integration\n",
    "Mit Gleichung {eq}`eq_dw_dt_approx` können wir die Veränderung des Wassergehaltes nach der Zeit berechnen. Um den Wassergehalt im Probekörper nach einer bestimmten Zeitdauer zu erhalten müssen wir die Veränderung des Wassergehaltes über die Zeit integrieren, Gleichung {eq}`w_integral`.\n",
    "\n",
    "$$\n",
    "w = \\int_{}^{} \\frac{\\partial w}{\\partial t} \\,dt\n",
    "$$ (w_integral)\n",
    "\n",
    "Da die Lösung dieses Integrals nur selten analytisch möglich ist, wird dieses numerisch Integriert. Als Integrationsverfahren wird ein explizites Runge-Kutta Verfahren verwendet (RK45). Die verwendete Funktion `solve_ivp()` zur Lösung des Anfangswertproblemes stammt aus der [SciPy Library](https://docs.scipy.org/doc/scipy/reference/generated/scipy.integrate.solve_ivp.html#id2).\n",
    "\n",
    "Festlegen der zu berechnenden Zeitdauer und des Anfangswertes für den Solver:"
   ]
  },
  {
   "cell_type": "code",
   "execution_count": 6,
   "metadata": {
    "collapsed": false,
    "jupyter": {
     "outputs_hidden": false
    },
    "pycharm": {
     "name": "#%%\n"
    }
   },
   "outputs": [],
   "source": [
    "#-------------------#\n",
    "#     INPUT         #\n",
    "#-------------------#\n",
    "\n",
    "w0 = w[:]\n",
    "\n",
    "t0 = 0  # Start time in hours\n",
    "tf = 1.5  # End time in hours\n",
    "\n",
    "# Bestimmung des Ausgabeschrittes für den Solver zur Darstellung der Ergebnisse\n",
    "t_eval = np.linspace(t0, tf, 100)"
   ]
  },
  {
   "cell_type": "markdown",
   "metadata": {
    "pycharm": {
     "name": "#%% md\n"
    }
   },
   "source": [
    "Lösen der Differentialgleichung und Berechnung des Integrals mittels Solver:"
   ]
  },
  {
   "cell_type": "code",
   "execution_count": 21,
   "metadata": {
    "collapsed": false,
    "jupyter": {
     "outputs_hidden": false
    },
    "pycharm": {
     "name": "#%%\n"
    },
    "tags": [
     "hide-output"
    ]
   },
   "outputs": [
    {
     "name": "stdout",
     "output_type": "stream",
     "text": [
      "Solving the differential equation...\n",
      "(Ignore error messages due to numerics.)\n"
     ]
    },
    {
     "name": "stderr",
     "output_type": "stream",
     "text": [
      "<ipython-input-2-0a5671c1930a>:7: RuntimeWarning: divide by zero encountered in true_divide\n",
      "  K_w = - (-300. * 10 ** (-6)) / (1. + 10 ** (-6) * P_suc) ** 2 * (n + 1.) / (2. * n) * (A / 300.) ** 2 * (\n",
      "<ipython-input-2-0a5671c1930a>:2: RuntimeWarning: divide by zero encountered in reciprocal\n",
      "  return 300. * (1. + 10 ** (-6) * P_suc) ** (-1)\n",
      "<ipython-input-2-0a5671c1930a>:7: RuntimeWarning: overflow encountered in multiply\n",
      "  K_w = - (-300. * 10 ** (-6)) / (1. + 10 ** (-6) * P_suc) ** 2 * (n + 1.) / (2. * n) * (A / 300.) ** 2 * (\n",
      "<ipython-input-5-757112eecefc>:7: RuntimeWarning: invalid value encountered in subtract\n",
      "  dwdt[1:-1] = -((K_w[2:] - K_w[:-2]) / (2 * dx) * (P_suc[2:] - P_suc[:-2]) / (2 * dx) +\n",
      "<ipython-input-5-757112eecefc>:8: RuntimeWarning: invalid value encountered in multiply\n",
      "  K_w[1:-1] * (P_suc[2:] - 2 * P_suc[1:-1] + P_suc[:-2]) / dx ** 2)\n",
      "<ipython-input-5-757112eecefc>:7: RuntimeWarning: invalid value encountered in add\n",
      "  dwdt[1:-1] = -((K_w[2:] - K_w[:-2]) / (2 * dx) * (P_suc[2:] - P_suc[:-2]) / (2 * dx) +\n"
     ]
    },
    {
     "name": "stdout",
     "output_type": "stream",
     "text": [
      "Done.\n"
     ]
    }
   ],
   "source": [
    "# ----------------------\n",
    "#       Solve\n",
    "# ---------------------\n",
    "\n",
    "print('Solving the differential equation...\\n(Ignore error messages due to numerics.)')\n",
    "# sol = solve_ivp(dwdt_calc, (t0, tf), w0, t_eval=t_eval, dense_output=False, method='Radau', atol=1e-7, rtol=1e-5)\n",
    "sol = solve_ivp(dwdt_calc, (t0, tf), w0, t_eval=t_eval, dense_output=False, atol=1e-7, rtol=1e-5)\n",
    "\n",
    "# Input the solution as the new moisture saturation\n",
    "w[:] = sol.y[:, t_eval.size - 1]\n",
    "\n",
    "print('Done.')\n"
   ]
  },
  {
   "cell_type": "markdown",
   "metadata": {
    "pycharm": {
     "name": "#%% md\n"
    }
   },
   "source": [
    "## Darstellung der Ergebnisse\n",
    "Die Ergebnisse werden einerseits über die Probekörper-Länge andererseits im gesamten Probekörper gegen die Wurzel der Zeit dargestellt. Es wird dafür Pyplot von der [Matplotlib Library](https://matplotlib.org/stable/tutorials/introductory/pyplot.html) verwendet."
   ]
  },
  {
   "cell_type": "markdown",
   "metadata": {
    "pycharm": {
     "name": "#%% md\n"
    }
   },
   "source": [
    "### Verteilung des Wassergehaltes im diskretisierten Probekörper"
   ]
  },
  {
   "cell_type": "code",
   "execution_count": 17,
   "metadata": {
    "collapsed": false,
    "jupyter": {
     "outputs_hidden": false
    },
    "pycharm": {
     "name": "#%%\n"
    },
    "tags": [
     "hide-input"
    ]
   },
   "outputs": [
    {
     "data": {
      "image/png": "[encoded data removed]",
      "text/plain": [
       "<Figure size 432x288 with 1 Axes>"
      ]
     },
     "metadata": {
      "needs_background": "light"
     },
     "output_type": "display_data"
    }
   ],
   "source": [
    "# Moisture content distribution in discretized specimen\n",
    "w_cell = w[1:-1]\n",
    "plt.plot(x, w_cell)\n",
    "plt.grid()\n",
    "plt.axis([0, 0.2, 0, 400])\n",
    "plt.xlabel('Discretized specimen in m')\n",
    "plt.ylabel('Moisture content for cell in kg/m³')\n",
    "plt.title(f'Moisture distribution in specimen after {tf} hours')\n",
    "plt.show()"
   ]
  },
  {
   "cell_type": "markdown",
   "metadata": {
    "pycharm": {
     "name": "#%% md\n"
    }
   },
   "source": [
    "### Wassergehalt im Probekörper gegen $\\sqrt{Zeit}$"
   ]
  },
  {
   "cell_type": "code",
   "execution_count": 9,
   "metadata": {
    "collapsed": false,
    "jupyter": {
     "outputs_hidden": false
    },
    "pycharm": {
     "name": "#%%\n"
    },
    "tags": [
     "hide-input"
    ]
   },
   "outputs": [
    {
     "data": {
      "image/png": "[encoded data removed]",
      "text/plain": [
       "<Figure size 432x288 with 1 Axes>"
      ]
     },
     "metadata": {
      "needs_background": "light"
     },
     "output_type": "display_data"
    }
   ],
   "source": [
    "# Moisture content in specimen over square root of time\n",
    "w_total_dt = np.sum(sol.y[1:-1], axis=0) * dx\n",
    "t_sqrt_axis = np.sqrt(t_eval)\n",
    "\n",
    "plt.plot(t_sqrt_axis, w_total_dt)\n",
    "plt.grid()\n",
    "plt.xlabel('Time in $\\sqrt{hours}$')\n",
    "plt.ylabel('Total moisture content in kg/m²')\n",
    "plt.title(f'Development of the total moisture content in the specimen for {tf} hours')\n",
    "plt.show()"
   ]
  },
  {
   "cell_type": "markdown",
   "metadata": {
    "pycharm": {
     "name": "#%% md\n"
    }
   },
   "source": [
    "### Relativer Wassergehalt im Probekörper gegen $\\sqrt{Zeit}$"
   ]
  },
  {
   "cell_type": "code",
   "execution_count": 10,
   "metadata": {
    "collapsed": false,
    "jupyter": {
     "outputs_hidden": false
    },
    "pycharm": {
     "name": "#%%\n"
    },
    "tags": [
     "hide-input"
    ]
   },
   "outputs": [
    {
     "data": {
      "image/png": "[encoded data removed]",
      "text/plain": [
       "<Figure size 432x288 with 1 Axes>"
      ]
     },
     "metadata": {
      "needs_background": "light"
     },
     "output_type": "display_data"
    }
   ],
   "source": [
    "# Relative moisture content in specimen over square root of time\n",
    "w_rel_dt = w_total_dt / (free_saturation * length) * 100\n",
    "\n",
    "plt.plot(t_sqrt_axis, w_rel_dt)\n",
    "plt.grid()\n",
    "plt.xlabel('Time in $\\sqrt{hours}$')\n",
    "plt.ylabel('Relative moisture content in $\\%$')\n",
    "plt.title(f'Development of the relative moisture content in the specimen for {tf} hours')\n",
    "plt.show()"
   ]
  },
  {
   "cell_type": "code",
   "execution_count": null,
   "metadata": {
    "collapsed": false,
    "jupyter": {
     "outputs_hidden": false
    },
    "pycharm": {
     "name": "#%%\n"
    }
   },
   "outputs": [],
   "source": []
  }
 ],
 "metadata": {
  "kernelspec": {
   "display_name": "Python 3",
   "language": "python",
   "name": "python3"
  },
  "language_info": {
   "codemirror_mode": {
    "name": "ipython",
    "version": 3
   },
   "file_extension": ".py",
   "mimetype": "text/x-python",
   "name": "python",
   "nbconvert_exporter": "python",
   "pygments_lexer": "ipython3",
   "version": "3.9.2"
  }
 },
 "nbformat": 4,
 "nbformat_minor": 4
}